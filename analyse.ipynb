{
 "cells": [
  {
   "cell_type": "code",
   "execution_count": 1,
   "metadata": {},
   "outputs": [],
   "source": [
    "import os\n",
    "\n",
    "import numpy as np\n",
    "\n",
    "import torch\n",
    "from torch import nn\n",
    "\n",
    "from torch.optim import Adam\n",
    "\n",
    "from simulations import *\n",
    "from vae import *\n",
    "from training_vae import *\n",
    "from outcome_models import *\n",
    "\n",
    "from utilities import *\n",
    "from visualisation import *\n",
    "\n",
    "import itertools\n",
    "import pandas as pd\n",
    "import matplotlib.pyplot as plt"
   ]
  },
  {
   "cell_type": "markdown",
   "metadata": {},
   "source": [
    "## 0. Data simulation"
   ]
  },
  {
   "cell_type": "code",
   "execution_count": 29,
   "metadata": {},
   "outputs": [],
   "source": [
    "nb_obs = 1e3\n",
    "seq_len = 50\n",
    "order = 2   # ordre associe au modele arma\n",
    "confounder_distribution = 'normal'\n",
    "mu_noise, sigma_noise = 0, .01**2\n",
    "theta = 0.5\n",
    "sigma_confounder=2\n",
    "poisson_par = 0.\n",
    "\n",
    "nb_treatments = 2   # nombre traitements que l'on veut considerer dans l'etude\n",
    "\n",
    "start = 4\n",
    "batch_size = 256"
   ]
  },
  {
   "cell_type": "code",
   "execution_count": 30,
   "metadata": {},
   "outputs": [],
   "source": [
    "A, Y, _, U = AR(int(nb_obs), \n",
    "                seq_len, \n",
    "                order=order, \n",
    "                mu_noise=mu_noise, \n",
    "                sigma_noise=sigma_noise, \n",
    "                theta_y=theta, \n",
    "                theta_a=theta, \n",
    "                confounder_distribution=confounder_distribution, \n",
    "                sigma_confounder=sigma_confounder, \n",
    "                poisson_par=poisson_par, \n",
    "                treatment_effect=False, \n",
    "                seed=0)\n",
    "\n",
    "data = {'A':A[start:start + nb_treatments], 'Y':Y[start - order + 1 : start + nb_treatments+1], 'U':U}\n",
    "A_train, A_valid, Y_train, Y_valid, U_train, U_valid = kfold(data, 2)\n",
    "\n",
    "train = preprocessing(A_train, Y_train[:, :Y_train.shape[1]-1], U_train, batch_size)\n",
    "valid = preprocessing(A_valid, Y_valid[:, :Y_valid.shape[1]-1], U_valid, batch_size)\n",
    "\n",
    "A_test, Y_test, _, U_test = AR(int(nb_obs * .2), \n",
    "                seq_len, \n",
    "                order=order, \n",
    "                mu_noise=mu_noise, \n",
    "                sigma_noise=sigma_noise, \n",
    "                theta_y=theta, \n",
    "                theta_a=theta, \n",
    "                confounder_distribution=confounder_distribution, \n",
    "                sigma_confounder=sigma_confounder, \n",
    "                poisson_par=poisson_par, \n",
    "                treatment_effect=False, \n",
    "                seed=0)\n",
    "\n",
    "A_test, Y_test, U_test = np.array(A_test).T, np.array(Y_test).T, np.array(U_test).T\n",
    "\n",
    "A_test = A_test[:, start:start + nb_treatments]\n",
    "Y_test = Y_test[:, start - order + 1 : start + nb_treatments+1]"
   ]
  },
  {
   "cell_type": "code",
   "execution_count": null,
   "metadata": {},
   "outputs": [],
   "source": []
  },
  {
   "cell_type": "code",
   "execution_count": null,
   "metadata": {},
   "outputs": [],
   "source": []
  },
  {
   "cell_type": "code",
   "execution_count": null,
   "metadata": {},
   "outputs": [],
   "source": []
  },
  {
   "cell_type": "markdown",
   "metadata": {},
   "source": [
    "## 1. VAE\n",
    "\n",
    "\n",
    "### 1.0 Initialization "
   ]
  },
  {
   "cell_type": "code",
   "execution_count": 4,
   "metadata": {},
   "outputs": [],
   "source": [
    "lr = 1e-3\n",
    "nb_epoch = 2000\n",
    "kl_coef = .000\n",
    "kl_begin, kl_end = 1000, 1500\n",
    "\n",
    "cvae = CVAE(a_dim=nb_treatments, y_dim=nb_treatments+order-1, latent_dim=1, order=order, \n",
    "            kl_coef=kl_coef, kl_begin=kl_begin, kl_end=kl_end)\n",
    "params = cvae.parameters()\n",
    "optimizer = Adam(params, lr=lr)"
   ]
  },
  {
   "cell_type": "markdown",
   "metadata": {},
   "source": [
    "### 1.1 Training"
   ]
  },
  {
   "cell_type": "code",
   "execution_count": 5,
   "metadata": {},
   "outputs": [],
   "source": [
    "models, loss_train_stack, loss_valid_stack, recon_train_stack, recon_valid_stack, kl_train_stack, kl_valid_stack, err_train, err_valid = training(train, valid, cvae, optimizer, nb_epoch)"
   ]
  },
  {
   "cell_type": "code",
   "execution_count": 6,
   "metadata": {},
   "outputs": [
    {
     "data": {
      "text/plain": [
       "[<matplotlib.lines.Line2D at 0x7fd8e79e6ac0>]"
      ]
     },
     "execution_count": 6,
     "metadata": {},
     "output_type": "execute_result"
    },
    {
     "data": {
      "image/png": "[encoded data removed]",
      "text/plain": [
       "<Figure size 432x288 with 1 Axes>"
      ]
     },
     "metadata": {
      "needs_background": "light"
     },
     "output_type": "display_data"
    }
   ],
   "source": [
    "plt.plot(loss_train_stack)\n",
    "plt.plot(loss_valid_stack)"
   ]
  },
  {
   "cell_type": "code",
   "execution_count": 7,
   "metadata": {},
   "outputs": [
    {
     "data": {
      "text/plain": [
       "[<matplotlib.lines.Line2D at 0x7fd8e887b5e0>]"
      ]
     },
     "execution_count": 7,
     "metadata": {},
     "output_type": "execute_result"
    },
    {
     "data": {
      "image/png": "[encoded data removed]",
      "text/plain": [
       "<Figure size 432x288 with 1 Axes>"
      ]
     },
     "metadata": {
      "needs_background": "light"
     },
     "output_type": "display_data"
    }
   ],
   "source": [
    "plt.plot(kl_train_stack)\n",
    "plt.plot(kl_valid_stack)"
   ]
  },
  {
   "cell_type": "code",
   "execution_count": 8,
   "metadata": {},
   "outputs": [
    {
     "data": {
      "text/plain": [
       "[<matplotlib.lines.Line2D at 0x7fd904b56970>]"
      ]
     },
     "execution_count": 8,
     "metadata": {},
     "output_type": "execute_result"
    },
    {
     "data": {
      "image/png": "[encoded data removed]",
      "text/plain": [
       "<Figure size 432x288 with 1 Axes>"
      ]
     },
     "metadata": {
      "needs_background": "light"
     },
     "output_type": "display_data"
    }
   ],
   "source": [
    "plt.plot(recon_train_stack)\n",
    "plt.plot(recon_valid_stack)"
   ]
  },
  {
   "cell_type": "code",
   "execution_count": 9,
   "metadata": {
    "scrolled": false
   },
   "outputs": [
    {
     "data": {
      "text/plain": [
       "[<matplotlib.lines.Line2D at 0x7fd8e8adfbe0>]"
      ]
     },
     "execution_count": 9,
     "metadata": {},
     "output_type": "execute_result"
    },
    {
     "data": {
      "image/png": "[encoded data removed]",
      "text/plain": [
       "<Figure size 432x288 with 1 Axes>"
      ]
     },
     "metadata": {
      "needs_background": "light"
     },
     "output_type": "display_data"
    }
   ],
   "source": [
    "plt.plot(err_train)\n",
    "plt.plot(err_valid)"
   ]
  },
  {
   "cell_type": "markdown",
   "metadata": {},
   "source": [
    "### 1.2. Outcome models"
   ]
  },
  {
   "cell_type": "markdown",
   "metadata": {},
   "source": [
    "Preparation des données"
   ]
  },
  {
   "cell_type": "code",
   "execution_count": 23,
   "metadata": {},
   "outputs": [],
   "source": [
    "k = 200\n",
    "model = models[k]\n",
    "\n",
    "strategies = list(itertools.product([0, 1], repeat=nb_treatments))    \n",
    "\n",
    "A = np.concatenate((A_train, A_valid))\n",
    "Y = np.concatenate((Y_train, Y_valid))\n",
    "U = np.concatenate((U_train, U_valid))\n",
    "\n",
    "train_set = data_wrapup(A, Y, U, int(nb_obs), model)\n",
    "test_set = data_wrapup(A_test, Y_test, U_test, int(nb_obs), model)"
   ]
  },
  {
   "cell_type": "markdown",
   "metadata": {},
   "source": [
    "Calculs"
   ]
  },
  {
   "cell_type": "code",
   "execution_count": 24,
   "metadata": {},
   "outputs": [
    {
     "name": "stdout",
     "output_type": "stream",
     "text": [
      "oracle\n",
      "oracle : 0.2021277460120083\n",
      "random\n",
      "random : 0.20161727755024908\n",
      "proxy\n",
      "proxy : 0.21860891458304502\n",
      "none\n",
      "none : 0.21752625406454207\n"
     ]
    }
   ],
   "source": [
    "confounder_types = ['oracle', 'random', 'proxy', 'none']\n",
    "\n",
    "boxe = []\n",
    "\n",
    "for variable in confounder_types:\n",
    "    train = [train_set['outcomes'], train_set['treatments'], train_set[variable]]\n",
    "    test = [test_set['outcomes'], test_set['treatments'], test_set[variable]]\n",
    "    \n",
    "    print(variable)\n",
    "    \n",
    "    R = stats(train=train, test=test, strategies=strategies)[0][0]\n",
    "    \n",
    "    boxe.append('{} : {}'.format(variable, np.round(R, 3)))\n",
    "    \n",
    "    print(variable, \":\", R)"
   ]
  },
  {
   "cell_type": "markdown",
   "metadata": {},
   "source": [
    "Moyenne mobile de l'environnement"
   ]
  },
  {
   "cell_type": "code",
   "execution_count": 12,
   "metadata": {},
   "outputs": [],
   "source": [
    "# idx = nb_epoch - 1\n",
    "\n",
    "# h_train, h_test = [], []\n",
    "\n",
    "# window = 1\n",
    "\n",
    "# window_min, window_max = max(0, idx-window), min(nb_epoch, idx+window)\n",
    "\n",
    "# for k in range(0, nb_epoch, 1):\n",
    "        \n",
    "#     train_set = data_wrapup(A, Y, U, int(nb_obs), models[k])\n",
    "#     test_set = data_wrapup(A_test, Y_test, U_test, int(nb_obs), models[k])\n",
    "    \n",
    "#     train = [train_set['outcomes'], train_set['treatments'], train_set['proxy']]\n",
    "#     test = [test_set['outcomes'], test_set['treatments'], test_set['proxy']]\n",
    "     \n",
    "#     h_test.append(stats(train=train, test=test, strategies=strategies)[0][0])    "
   ]
  },
  {
   "cell_type": "code",
   "execution_count": 13,
   "metadata": {
    "scrolled": true
   },
   "outputs": [],
   "source": [
    "# plt.plot(h_test)"
   ]
  },
  {
   "cell_type": "markdown",
   "metadata": {},
   "source": [
    "### Visualisation"
   ]
  },
  {
   "cell_type": "markdown",
   "metadata": {},
   "source": [
    "Predictive checks et performances generales"
   ]
  },
  {
   "cell_type": "markdown",
   "metadata": {},
   "source": [
    "### Analyse de la variable proxy"
   ]
  },
  {
   "cell_type": "code",
   "execution_count": 18,
   "metadata": {},
   "outputs": [],
   "source": [
    "test_set = data_wrapup(A_test, Y_test, U_test, int(nb_obs), models[-1])"
   ]
  },
  {
   "cell_type": "code",
   "execution_count": 19,
   "metadata": {},
   "outputs": [],
   "source": [
    "label = np.zeros(test_set['treatments'].shape[0])[None].T\n",
    "\n",
    "for k in np.arange(len(strategies)):\n",
    "    label += (abs(test_set['treatments'][:, :3] - strategies[k]).sum(axis=1) == 0)[None].T * (k+1)"
   ]
  },
  {
   "cell_type": "code",
   "execution_count": 25,
   "metadata": {},
   "outputs": [
    {
     "data": {
      "text/plain": [
       "Text(0.5, 0, 'Proxy ($Z$)')"
      ]
     },
     "execution_count": 25,
     "metadata": {},
     "output_type": "execute_result"
    },
    {
     "data": {
      "image/png": "[encoded data removed]",
      "text/plain": [
       "<Figure size 432x288 with 1 Axes>"
      ]
     },
     "metadata": {
      "needs_background": "light"
     },
     "output_type": "display_data"
    }
   ],
   "source": [
    "nb_dots = 200\n",
    "\n",
    "color_chart = ['blue', 'red', 'green', 'purple']\n",
    "\n",
    "data = np.concatenate((test_set['oracle'][:nb_dots, :], test_set['proxy'][:nb_dots, :], label[:nb_dots, :]), axis=1)\n",
    "\n",
    "ens = pd.DataFrame(data)\n",
    "ens.columns = ['oracle', 'proxy', 'label']\n",
    "\n",
    "for k in np.arange(4):\n",
    "    plt.scatter(ens[ens['label']==k+1]['proxy'], ens[ens['label']==k+1]['oracle'], color=color_chart[k],  s=2)\n",
    "\n",
    "plt.ylabel('Unobserved confounder ($U$)', fontsize=13)\n",
    "plt.xlabel('Proxy ($Z$)', fontsize=13)"
   ]
  },
  {
   "cell_type": "code",
   "execution_count": 26,
   "metadata": {},
   "outputs": [
    {
     "data": {
      "text/plain": [
       "Text(0.5, 0, 'Proxy ($Z$)')"
      ]
     },
     "execution_count": 26,
     "metadata": {},
     "output_type": "execute_result"
    },
    {
     "data": {
      "image/png": "[encoded data removed]",
      "text/plain": [
       "<Figure size 432x288 with 1 Axes>"
      ]
     },
     "metadata": {
      "needs_background": "light"
     },
     "output_type": "display_data"
    }
   ],
   "source": [
    "nb_dots = 1000\n",
    "\n",
    "color_chart = ['blue', 'red', 'green', 'purple']\n",
    "\n",
    "data = np.concatenate((test_set['oracle'][:nb_dots, :], test_set['random'][:nb_dots, :], label[:nb_dots, :]), axis=1)\n",
    "\n",
    "ens = pd.DataFrame(data)\n",
    "ens.columns = ['oracle', 'proxy', 'label']\n",
    "\n",
    "for k in np.arange(4):\n",
    "    plt.scatter(ens[ens['label']==k+1]['proxy'], ens[ens['label']==k+1]['oracle'], color=color_chart[k],  s=2)\n",
    "\n",
    "plt.ylabel('Unobserved confounder ($U$)', fontsize=13)\n",
    "plt.xlabel('Proxy ($Z$)', fontsize=13)"
   ]
  },
  {
   "cell_type": "code",
   "execution_count": null,
   "metadata": {},
   "outputs": [],
   "source": []
  },
  {
   "cell_type": "code",
   "execution_count": null,
   "metadata": {},
   "outputs": [],
   "source": []
  }
 ],
 "metadata": {
  "kernelspec": {
   "display_name": "Python 3",
   "language": "python",
   "name": "python3"
  },
  "language_info": {
   "codemirror_mode": {
    "name": "ipython",
    "version": 3
   },
   "file_extension": ".py",
   "mimetype": "text/x-python",
   "name": "python",
   "nbconvert_exporter": "python",
   "pygments_lexer": "ipython3",
   "version": "3.8.5"
  }
 },
 "nbformat": 4,
 "nbformat_minor": 4
}
