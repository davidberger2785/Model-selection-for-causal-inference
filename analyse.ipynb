{
 "cells": [
  {
   "cell_type": "code",
   "execution_count": 12,
   "metadata": {},
   "outputs": [],
   "source": [
    "import numpy as np\n",
    "\n",
    "import torch\n",
    "from torch.optim import Adam\n",
    "\n",
    "from vae import *\n",
    "from training import *\n",
    "from utilities import *\n",
    "\n",
    "import matplotlib.pyplot as plt\n",
    "import seaborn as sns"
   ]
  },
  {
   "cell_type": "markdown",
   "metadata": {},
   "source": [
    "### Force covariance matrix to be SDP"
   ]
  },
  {
   "cell_type": "markdown",
   "metadata": {},
   "source": [
    "## 0. Data simulation"
   ]
  },
  {
   "cell_type": "markdown",
   "metadata": {},
   "source": [
    "Construction de la matrice de précision"
   ]
  },
  {
   "cell_type": "code",
   "execution_count": 2,
   "metadata": {},
   "outputs": [],
   "source": [
    "nb_treatments = 2\n",
    "nb_dim = 1\n",
    "\n",
    "alpha_y = 1\n",
    "alpha_a = 1\n",
    "cond_dependencies_ua =  alpha_a * np.ones(nb_treatments)\n",
    "cond_dependencies_y =  alpha_y * np.ones(nb_treatments+nb_dim)\n",
    "\n",
    "L = np.eye(nb_treatments+nb_dim+1)\n",
    "L[1:1+nb_treatments, 0]  += cond_dependencies_ua\n",
    "L[-1, :-1]  += cond_dependencies_y\n",
    "\n",
    "precision = np.matmul(L.T, L)"
   ]
  },
  {
   "cell_type": "markdown",
   "metadata": {},
   "source": [
    "Simulation des données"
   ]
  },
  {
   "cell_type": "code",
   "execution_count": 3,
   "metadata": {},
   "outputs": [],
   "source": [
    "nb_obs = 1000\n",
    "\n",
    "covariance = nearestPD(np.linalg.inv(precision))\n",
    "\n",
    "data = np.random.multivariate_normal(np.zeros(nb_treatments+nb_dim+1), covariance, nb_obs)"
   ]
  },
  {
   "cell_type": "markdown",
   "metadata": {},
   "source": [
    "### Preprocessing data"
   ]
  },
  {
   "cell_type": "code",
   "execution_count": 4,
   "metadata": {},
   "outputs": [],
   "source": [
    "batch_size = 128\n",
    "train_size = int(nb_obs *.8)\n",
    "\n",
    "confounders = data[:, 0][None].T\n",
    "treatments = data[:, 1:nb_treatments+1]\n",
    "outcomes = data[:, -1][None].T\n",
    "\n",
    "train = preprocessing(treatments[:train_size, :], outcomes[:train_size, :], confounders[:train_size, :], \n",
    "                       batch_size)\n",
    "\n",
    "valid = preprocessing(treatments[train_size:, :], outcomes[train_size:, :], confounders[train_size:, :], \n",
    "                       batch_size)"
   ]
  },
  {
   "cell_type": "markdown",
   "metadata": {},
   "source": [
    "## 1. VAE\n",
    "\n",
    "\n",
    "### 1.0 Initialization "
   ]
  },
  {
   "cell_type": "code",
   "execution_count": 5,
   "metadata": {},
   "outputs": [],
   "source": [
    "lr = 1e-3\n",
    "nb_epoch = 1000\n",
    "\n",
    "vae = VAE(a_dim=nb_treatments, latent_dim=nb_dim)\n",
    "params = vae.parameters()\n",
    "optimizer = Adam(params, lr=lr)"
   ]
  },
  {
   "cell_type": "markdown",
   "metadata": {},
   "source": [
    "### 1.1 Training"
   ]
  },
  {
   "cell_type": "code",
   "execution_count": 6,
   "metadata": {},
   "outputs": [],
   "source": [
    "model_stack, loss_train_stack, loss_valid_stack = training(train, valid, vae, optimizer, nb_epoch)"
   ]
  },
  {
   "cell_type": "code",
   "execution_count": null,
   "metadata": {},
   "outputs": [],
   "source": []
  },
  {
   "cell_type": "markdown",
   "metadata": {},
   "source": [
    "### 1.2 Visualization"
   ]
  },
  {
   "cell_type": "code",
   "execution_count": 13,
   "metadata": {},
   "outputs": [],
   "source": [
    "train = preprocessing(treatments[:train_size, :], outcomes[:train_size, :], confounders[:train_size, :], \n",
    "                     batch_size)\n",
    "\n",
    "treatments_train,  outcomes_train, confounders_train = next(iter(train))\n",
    "\n",
    "\n",
    "valid = preprocessing(treatments[train_size:, :], outcomes[train_size:, :], confounders[train_size:, :], \n",
    "                     batch_size)\n",
    "\n",
    "treatments_valid,  outcomes_valid, confounders_valid= next(iter(valid))"
   ]
  },
  {
   "cell_type": "code",
   "execution_count": 14,
   "metadata": {},
   "outputs": [],
   "source": [
    "k= -1\n",
    "\n",
    "_, _,  _, z_train = model_stack[k](treatments_train)\n",
    "_, _,  _, z_valid = model_stack[k](treatments_valid)\n",
    "\n",
    "z_train = z_train.detach().numpy()\n",
    "z_valid = z_valid.detach().numpy()"
   ]
  },
  {
   "cell_type": "code",
   "execution_count": 15,
   "metadata": {},
   "outputs": [
    {
     "data": {
      "text/plain": [
       "<seaborn.axisgrid.FacetGrid at 0x7f83ef0eaf70>"
      ]
     },
     "execution_count": 15,
     "metadata": {},
     "output_type": "execute_result"
    },
    {
     "data": {
      "image/png": "[encoded data removed]",
      "text/plain": [
       "<Figure size 402.375x360 with 1 Axes>"
      ]
     },
     "metadata": {
      "needs_background": "light"
     },
     "output_type": "display_data"
    }
   ],
   "source": [
    "sns.displot(z_train)"
   ]
  },
  {
   "cell_type": "code",
   "execution_count": null,
   "metadata": {},
   "outputs": [],
   "source": []
  }
 ],
 "metadata": {
  "kernelspec": {
   "display_name": "Python 3",
   "language": "python",
   "name": "python3"
  },
  "language_info": {
   "codemirror_mode": {
    "name": "ipython",
    "version": 3
   },
   "file_extension": ".py",
   "mimetype": "text/x-python",
   "name": "python",
   "nbconvert_exporter": "python",
   "pygments_lexer": "ipython3",
   "version": "3.8.5"
  }
 },
 "nbformat": 4,
 "nbformat_minor": 4
}
